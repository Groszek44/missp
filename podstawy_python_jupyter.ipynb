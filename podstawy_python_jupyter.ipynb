{
 "cells": [
  {
   "cell_type": "code",
   "execution_count": 7,
   "metadata": {},
   "outputs": [
    {
     "name": "stdout",
     "output_type": "stream",
     "text": [
      "5\n"
     ]
    }
   ],
   "source": [
    "# komentarz\n",
    "\n",
    "# if\n",
    "\n",
    "wielkosc = 5\n",
    "\n",
    "print(wielkosc)"
   ]
  },
  {
   "cell_type": "code",
   "execution_count": 13,
   "metadata": {},
   "outputs": [
    {
     "name": "stdout",
     "output_type": "stream",
     "text": [
      "w sam raz\n"
     ]
    }
   ],
   "source": [
    "if wielkosc >6:\n",
    "    print(\"ale duze\")\n",
    "elif wielkosc < 3:\n",
    "    print(\"malutkie\")\n",
    "    print('franek')\n",
    "else:\n",
    "    print(\"w sam raz\")"
   ]
  },
  {
   "cell_type": "code",
   "execution_count": 157,
   "metadata": {},
   "outputs": [
    {
     "name": "stdout",
     "output_type": "stream",
     "text": [
      "['Ania', 'Zosia', 'Kasia', 'Franek']\n"
     ]
    }
   ],
   "source": [
    "studenci = [\"Ania\", \"Zosia\", \"Kasia\", \"Franek\"]\n",
    "\n",
    "print(studenci)"
   ]
  },
  {
   "cell_type": "code",
   "execution_count": 16,
   "metadata": {},
   "outputs": [
    {
     "data": {
      "text/plain": [
       "'Ania'"
      ]
     },
     "execution_count": 16,
     "metadata": {},
     "output_type": "execute_result"
    }
   ],
   "source": [
    "studenci[0][1]"
   ]
  },
  {
   "cell_type": "code",
   "execution_count": 18,
   "metadata": {
    "scrolled": true
   },
   "outputs": [
    {
     "name": "stdout",
     "output_type": "stream",
     "text": [
      "student ma na imie: Ania\n",
      "student ma na imie: Zosia\n",
      "student ma na imie: Kasia\n",
      "student ma na imie: Franek\n",
      "Ania\n",
      "student na poczatku alfabetu\n",
      "Zosia\n",
      "Kasia\n",
      "Franek\n"
     ]
    }
   ],
   "source": [
    "for student in studenci:\n",
    "    print(\"student ma na imie:\", student)\n",
    "    \n",
    "for student in studenci:\n",
    "    print(student)\n",
    "    if student[0]==\"A\":\n",
    "        print(\"student na poczatku alfabetu\")"
   ]
  },
  {
   "cell_type": "code",
   "execution_count": 19,
   "metadata": {},
   "outputs": [
    {
     "name": "stdout",
     "output_type": "stream",
     "text": [
      "student Ania ma numer 0\n",
      "student Zosia ma numer 1\n",
      "student Kasia ma numer 2\n",
      "student Franek ma numer 3\n"
     ]
    }
   ],
   "source": [
    "for numer, student in enumerate(studenci):\n",
    "    print(\"student {} ma numer {}\".format(student,numer))"
   ]
  },
  {
   "cell_type": "code",
   "execution_count": 53,
   "metadata": {},
   "outputs": [
    {
     "name": "stdout",
     "output_type": "stream",
     "text": [
      "student Ania ma numer 0 i ocenę 2\n",
      "student Zosia ma numer 1 i ocenę 2\n",
      "student Kasia ma numer 2 i ocenę 5\n",
      "student Franek ma numer 3 i ocenę 3\n",
      "----------------------------------------\n",
      "student Ania ma numer 0 i ocenę 2\n",
      "student Zosia ma numer 1 i ocenę 2\n",
      "student Kasia ma numer 2 i ocenę 5\n",
      "student Franek ma numer 3 i ocenę 3\n"
     ]
    }
   ],
   "source": [
    "oceny = [2,2,5,3]\n",
    "\n",
    "for numer, student in enumerate(studenci):\n",
    "    print(\"student {} ma numer {} i ocenę {}\".format(student,numer,oceny[numer]))\n",
    "\n",
    "print(\"--\"*20)    \n",
    "for number, (student, ocena) in enumerate(zip(studenci,oceny)):\n",
    "    print(\"student {} ma numer {} i ocenę {}\".format(student,number,ocena))"
   ]
  },
  {
   "cell_type": "code",
   "execution_count": 25,
   "metadata": {},
   "outputs": [],
   "source": [
    "trzy_elementy= [1,2,3]\n",
    "pierwszy,drugi,trzeci= trzy_elementy"
   ]
  },
  {
   "cell_type": "code",
   "execution_count": 27,
   "metadata": {},
   "outputs": [
    {
     "name": "stdout",
     "output_type": "stream",
     "text": [
      "1\n",
      "2\n",
      "3\n",
      "4\n",
      "5\n",
      "6\n",
      "7\n",
      "8\n",
      "9\n"
     ]
    }
   ],
   "source": [
    "n = 1\n",
    "\n",
    "while(n < 10):\n",
    "    print(n)\n",
    "    n+=1"
   ]
  },
  {
   "cell_type": "code",
   "execution_count": 26,
   "metadata": {},
   "outputs": [],
   "source": [
    "def dodaj_dwa(liczba):\n",
    "    return liczba+2\n",
    "\n",
    "def dodaj_trzy(liczba):\n",
    "    return liczba+3\n",
    "\n",
    "def dodaj_dwie_liczby(liczba1,liczba2):\n",
    "    return liczba1+liczba2\n",
    "\n",
    "\n",
    "dodaj_cztery = lambda liczba:liczba+4"
   ]
  },
  {
   "cell_type": "code",
   "execution_count": 27,
   "metadata": {
    "scrolled": true
   },
   "outputs": [
    {
     "name": "stdout",
     "output_type": "stream",
     "text": [
      "12\n",
      "13\n",
      "14\n"
     ]
    }
   ],
   "source": [
    "funkcje=[dodaj_dwa,dodaj_trzy,dodaj_cztery]\n",
    "\n",
    "jakis_nr= 10\n",
    "\n",
    "for funkcja in funkcje:\n",
    "    print(funkcja(jakis_nr))"
   ]
  },
  {
   "cell_type": "code",
   "execution_count": 162,
   "metadata": {},
   "outputs": [
    {
     "data": {
      "text/plain": [
       "['Ania', 'Zosia', 'Kasia']"
      ]
     },
     "execution_count": 162,
     "metadata": {},
     "output_type": "execute_result"
    }
   ],
   "source": [
    "studenci[0]\n",
    "studenci[1:]\n",
    "studenci[:-1]"
   ]
  },
  {
   "cell_type": "code",
   "execution_count": 9,
   "metadata": {},
   "outputs": [
    {
     "name": "stdout",
     "output_type": "stream",
     "text": [
      "zajecia od srody do piatku: ['relax', 'mispy', 'piateczek']\n",
      "Dzien:Pon Zajecie:wf\n",
      "Dzien:Wto Zajecie:informatyka\n",
      "Dzien:Sro Zajecie:relax\n",
      "Dzien:Czwar Zajecie:mispy\n",
      "Dzien:Pio Zajecie:piateczek\n"
     ]
    }
   ],
   "source": [
    "#### challenge 0.1\n",
    "\n",
    "zajecia = [\"wf\",\"informatyka\",\"relax\",\"mispy\",\"piateczek\"]\n",
    "\n",
    "dnityg= [\"Pon\",\"Wto\",\"Sro\",\"Czwar\",\"Pio\"]\n",
    "\n",
    "print(\"zajecia od srody do piatku:\",zajecia[2:])\n",
    "\n",
    "for zaj, dni, in zip(zajecia,dnityg):\n",
    "    if dni != \"sroda\":\n",
    "        print(\"Dzien:{} Zajecie:{}\".format(dni,zaj))\n",
    "\n",
    "# wyprintuj zajecia od srody do piatku\n",
    "# wyprintuj oprocz srody"
   ]
  },
  {
   "cell_type": "code",
   "execution_count": 2,
   "metadata": {},
   "outputs": [
    {
     "name": "stdout",
     "output_type": "stream",
     "text": [
      "[('Wto', ['wf']), ('Pon', ['informatyka', 'nauka czytania']), ('Sro', ['relax', 'jedzenie']), ('Pio', ['mispy', 'mispy w domu']), ('Czwar', ['piateczek', 'praca domowa z mispow', 'Ilovemispy', 'mispy w czasie snu'])]\n",
      "********************\n",
      "[('Czwar', ['piateczek', 'praca domowa z mispow', 'Ilovemispy', 'mispy w czasie snu']), ('Pon', ['informatyka', 'nauka czytania']), ('Sro', ['relax', 'jedzenie']), ('Pio', ['mispy', 'mispy w domu']), ('Wto', ['wf'])]\n",
      "********************\n",
      "Dzien z najwieksza iloscia mispow:\n",
      "Czwar\n"
     ]
    }
   ],
   "source": [
    "#### challenge 0.2\n",
    "\n",
    "zajecia = [\n",
    "           [\"informatyka\", \"nauka czytania\"],\n",
    "           [\"wf\"],\n",
    "           [\"relax\", \"jedzenie\"],\n",
    "           [\"piateczek\", \"praca domowa z mispow\", \"Ilovemispy\", \"mispy w czasie snu\"],\n",
    "           [\"mispy\",\"mispy w domu\"]\n",
    "          ]\n",
    "\n",
    "#zamieniłem kolejnosc zajec, zeby moc zobaczyc czy udalo sie sortowac\n",
    "\n",
    "dnityg= [\"Pon\",\"Wto\",\"Sro\",\"Czwar\",\"Pio\"]\n",
    "\n",
    "# zdefiniuj funkcje ktora poda ile jest zajec danego dnia\n",
    "# lista_zajec_z_dnia -> ile ich jest\n",
    "\n",
    "def ile_zajec_w_dniu(listazajec):\n",
    "    return len(listazajec)\n",
    "# po\n",
    "# posortuj dni po najbardziej zajetych\n",
    "\n",
    "#od najmniej zajetego do najbardziej\n",
    "najzajete = list(zip(dnityg,zajecia))\n",
    "najzajete = sorted(najzajete, key = lambda sort:ile_zajec_w_dniu(sort[1]))\n",
    "print(najzajete)\n",
    "\n",
    "print(\"*\"*20)\n",
    "\n",
    "#od najbardziej do najmniej zajetego\n",
    "najzajete = sorted(najzajete, key = lambda sort:ile_zajec_w_dniu(sort[1]), reverse = True)\n",
    "print(najzajete)\n",
    "print(\"*\"*20)\n",
    "#### challenge 0.3\n",
    "# napisz program ktory zdajdzie dzien z najwieksza iloscia mispow\n",
    "def ile_mispow_w_dniu(listazajec):\n",
    "    counter = 0\n",
    "    for zajecie in listazajec:\n",
    "        if zajecie.find(\"misp\")==-1:\n",
    "            continue\n",
    "        counter = counter + 1\n",
    "    return counter\n",
    "\n",
    "najzajete = sorted(najzajete, key = lambda sort:ile_mispow_w_dniu(sort[1]))\n",
    "print(\"Dzien z najwieksza iloscia mispow:\")\n",
    "print(najzajete[-1][0])"
   ]
  },
  {
   "cell_type": "code",
   "execution_count": 303,
   "metadata": {},
   "outputs": [
    {
     "data": {
      "text/plain": [
       "[(1, '11'), (0, '22'), (2, '33'), (3, '100')]"
      ]
     },
     "execution_count": 303,
     "metadata": {},
     "output_type": "execute_result"
    }
   ],
   "source": [
    "len(zajecia)\n",
    "\n",
    "zajecia[4][1]\n",
    "\n",
    "\"Ma\" in \"MojaMaMa\"\n",
    "\n",
    "liczby=[\"22\",\"11\",\"33\",\"100\"]\n",
    "liczby_i_nazwy= [(\"22\",\"dwadziescia dwa\"),\n",
    "                 (\"11\",\"jedenascie\"),\n",
    "        (\"33\",\"trzydziesci trzy\"),(\"100\",\"sto\")]\n",
    "sorted(liczby)\n",
    "\n",
    "sorted(liczby, key=int)\n",
    "\n",
    "liczby_kolejnosc= enumerate(liczby)\n",
    "\n",
    "def czy_jest_jeden(liczba):\n",
    "\n",
    "    if \"1\" in liczba:\n",
    "        return 1\n",
    "    else:\n",
    "        return 0\n",
    "def na_liczbe(krotka):\n",
    "         return int(krotka[0])\n",
    "def na_liczbe_index(krotka):\n",
    "         return int(krotka[1])    \n",
    "sorted(liczby, key=czy_jest_jeden)\n",
    "         \n",
    "sorted(liczby_i_nazwy,key=na_liczbe)\n",
    "\n",
    "sorted(liczby_kolejnosc,key=na_liczbe_index)"
   ]
  },
  {
   "cell_type": "code",
   "execution_count": 246,
   "metadata": {},
   "outputs": [
    {
     "ename": "SyntaxError",
     "evalue": "invalid syntax (<ipython-input-246-34882cb7125b>, line 1)",
     "output_type": "error",
     "traceback": [
      "\u001b[0;36m  File \u001b[0;32m\"<ipython-input-246-34882cb7125b>\"\u001b[0;36m, line \u001b[0;32m1\u001b[0m\n\u001b[0;31m    sorted(liczby_kolejnosc,key=)\u001b[0m\n\u001b[0m                                ^\u001b[0m\n\u001b[0;31mSyntaxError\u001b[0m\u001b[0;31m:\u001b[0m invalid syntax\n"
     ]
    }
   ],
   "source": [
    "sorted(liczby_kolejnosc,key=)"
   ]
  },
  {
   "cell_type": "code",
   "execution_count": null,
   "metadata": {},
   "outputs": [],
   "source": []
  }
 ],
 "metadata": {
  "kernelspec": {
   "display_name": "Python 3",
   "language": "python",
   "name": "python3"
  },
  "language_info": {
   "codemirror_mode": {
    "name": "ipython",
    "version": 3
   },
   "file_extension": ".py",
   "mimetype": "text/x-python",
   "name": "python",
   "nbconvert_exporter": "python",
   "pygments_lexer": "ipython3",
   "version": "3.8.3"
  }
 },
 "nbformat": 4,
 "nbformat_minor": 2
}

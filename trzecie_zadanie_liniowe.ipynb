{
 "metadata": {
  "language_info": {
   "codemirror_mode": {
    "name": "ipython",
    "version": 3
   },
   "file_extension": ".py",
   "mimetype": "text/x-python",
   "name": "python",
   "nbconvert_exporter": "python",
   "pygments_lexer": "ipython3",
   "version": "3.8.3-final"
  },
  "orig_nbformat": 2,
  "kernelspec": {
   "name": "Python 3.8.3 64-bit ('base': conda)",
   "display_name": "Python 3.8.3 64-bit ('base': conda)",
   "metadata": {
    "interpreter": {
     "hash": "f2a94dd662cc57c54bc4d8551ce8f3b75fb188fe8ce4f6cc5cded909e8e147db"
    }
   }
  }
 },
 "nbformat": 4,
 "nbformat_minor": 2,
 "cells": [
  {
   "cell_type": "code",
   "execution_count": 7,
   "metadata": {},
   "outputs": [
    {
     "output_type": "stream",
     "name": "stdout",
     "text": [
      "Status: Optimal\nPrad1 = 3.0\nPrad2 = 1.0\nPrad3 = 1.0\nPrad4 = 1.0\nPrad5 = 3.0\nRezystancja 1 wynosi 2.0 k Ohm\nRezystancja 2 wynosi 10.0 k Ohm\nRezystancja 3 wynosi 4.0 k Ohm\nRezystancja 4 wynosi 7.0 k Ohm\nRezystancja 5 wynosi 1.0 k Ohm\n"
     ]
    }
   ],
   "source": [
    "from pulp import *\n",
    "import pandas as pd\n",
    "prob = LpProblem(\"Mostek\",LpMinimize)\n",
    "\n",
    "I1 = LpVariable(\"Prad1\",0)\n",
    "I2 = LpVariable(\"Prad2\",0)\n",
    "I3 = LpVariable(\"Prad3\",0)\n",
    "I4 = LpVariable(\"Prad4\",0)\n",
    "I5 = LpVariable(\"Prad5\",0)\n",
    "\n",
    "prob += 6*I1 + 10*I2 + 4*I3 + 7*I4 + 3*I5, \"Moc\"\n",
    "\n",
    "prob += 3 <= I1, \"Prad1_min\"\n",
    "prob += I1 <= 5, \"Prad1_max\"\n",
    "\n",
    "prob += 1 <= I2, \"Prad2_min\"\n",
    "prob += I2 <= 3, \"Prad2_max\"\n",
    "\n",
    "prob += 1 <= I3, \"Prad3_min\"\n",
    "prob += I3 <= 3, \"Prad3_max\"\n",
    "\n",
    "prob += 1 <= I4, \"Prad4_min\"\n",
    "prob += I4 <= 3, \"Prad4_max\"\n",
    "\n",
    "prob += 3 <= I5, \"Prad5_min\"\n",
    "prob += I5 <= 5, \"Prad5_max\"\n",
    "\n",
    "prob.writeLP(\"MostekModel.lp\")\n",
    "prob.solve()\n",
    "\n",
    "print (\"Status:\", LpStatus[prob.status])\n",
    "\n",
    "for v in prob.variables():\n",
    "    print (v.name, \"=\", v.varValue)\n",
    "\n",
    "print(\"Rezystancja 1 wynosi\", 6/I1.varValue,\"k Ohm\")\n",
    "print(\"Rezystancja 2 wynosi\", 10/I2.varValue,\"k Ohm\")\n",
    "print(\"Rezystancja 3 wynosi\", 4/I3.varValue,\"k Ohm\")\n",
    "print(\"Rezystancja 4 wynosi\", 7/I4.varValue,\"k Ohm\")\n",
    "print(\"Rezystancja 5 wynosi\", 3/I5.varValue,\"k Ohm\")"
   ]
  },
  {
   "cell_type": "code",
   "execution_count": 6,
   "metadata": {},
   "outputs": [
    {
     "output_type": "stream",
     "name": "stdout",
     "text": [
      "Status: Optimal\nPrad1 = 1.5428571\nPrad2 = 2.0571429\nPrad3 = 3.6\nPrad4 = 1.6\nPrad5 = 2.0\nMaksymalny prad plynacy przez uklad wynosi 3.6 A\n"
     ]
    }
   ],
   "source": [
    "from pulp import *\n",
    "import pandas as pd\n",
    "prob = LpProblem(\"Uklad\",LpMaximize)\n",
    "\n",
    "I1 = LpVariable(\"Prad1\",0)\n",
    "I2 = LpVariable(\"Prad2\",0)\n",
    "I3 = LpVariable(\"Prad3\",0)\n",
    "I4 = LpVariable(\"Prad4\",0)\n",
    "I5 = LpVariable(\"Prad5\",0)\n",
    "\n",
    "prob += I3, \"MaxPradUkladu\"\n",
    "\n",
    "prob += I1 + I2 == I3, \"PierwszaCzescPrady\"\n",
    "prob += I5 + I4 == I3, \"DrugaCzescPrady\"\n",
    "\n",
    "prob += I1*8 == I2*6, \"NapieciePierwszeOczko\"\n",
    "prob += I5*8 == I4*10, \"NapiecieDrugieOczko\"\n",
    "\n",
    "prob += I1 <= 2, \"Prad1_max\"\n",
    "prob += I2 <= 3, \"Prad2_max\"\n",
    "prob += I3 <= 4, \"Prad3_max\"\n",
    "prob += I4 <= 2, \"Prad4_max\"\n",
    "prob += I5 <= 2, \"Prad5_max\"\n",
    "\n",
    "prob.writeLP(\"UkladModel.lp\")\n",
    "prob.solve()\n",
    "print (\"Status:\", LpStatus[prob.status])\n",
    "\n",
    "for v in prob.variables():\n",
    "    print (v.name, \"=\", v.varValue)\n",
    "\n",
    "print(\"Maksymalny prad plynacy przez uklad wynosi\",I3.varValue,\"A\")"
   ]
  },
  {
   "cell_type": "code",
   "execution_count": null,
   "metadata": {},
   "outputs": [],
   "source": [
    "\n",
    "\n",
    "\n",
    "\n",
    "\n",
    "\n"
   ]
  }
 ]
}
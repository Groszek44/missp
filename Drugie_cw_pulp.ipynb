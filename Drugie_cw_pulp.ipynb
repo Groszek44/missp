{
 "metadata": {
  "language_info": {
   "codemirror_mode": {
    "name": "ipython",
    "version": 3
   },
   "file_extension": ".py",
   "mimetype": "text/x-python",
   "name": "python",
   "nbconvert_exporter": "python",
   "pygments_lexer": "ipython3",
   "version": "3.8.3-final"
  },
  "orig_nbformat": 2,
  "kernelspec": {
   "name": "Python 3.8.3 64-bit ('base': conda)",
   "display_name": "Python 3.8.3 64-bit ('base': conda)",
   "metadata": {
    "interpreter": {
     "hash": "f2a94dd662cc57c54bc4d8551ce8f3b75fb188fe8ce4f6cc5cded909e8e147db"
    }
   }
  }
 },
 "nbformat": 4,
 "nbformat_minor": 2,
 "cells": [
  {
   "cell_type": "code",
   "execution_count": 1,
   "metadata": {},
   "outputs": [
    {
     "output_type": "stream",
     "name": "stdout",
     "text": [
      "Status: Optimal\nPartie_okien_aluminiowych = 2.0\nPartie_okien_drewnianych = 6.0\nMaksymalny zysk =  36000.0\n"
     ]
    }
   ],
   "source": [
    "from pulp import*\n",
    "prob = LpProblem(\"Okna_zyski\",LpMaximize)\n",
    "\n",
    "x1 = LpVariable(\"Partie okien aluminiowych\",0,None, LpInteger)\n",
    "x2 = LpVariable(\"Partie okien drewnianych\",0,None, LpInteger)\n",
    "\n",
    "prob += 3.0*x1 + 5.0*x2, \"Maksymalny Zysk\"\n",
    "prob += x1 <= 4.0, \"Fabryka 1\"\n",
    "prob += 2.0*x2 <= 12.0, \"Fabryka 2\"\n",
    "prob += 3.0*x1 + 2.0*x2 <= 18.0, \"Fabryka 3\"\n",
    "\n",
    "prob.writeLP(\"Okna_zyski\")\n",
    "\n",
    "prob.solve()\n",
    "\n",
    "print(\"Status:\", LpStatus[prob.status])\n",
    "\n",
    "for v in prob.variables():\n",
    "    print(v.name, \"=\", v.varValue)\n",
    "\n",
    "print(\"Maksymalny zysk = \", value(prob.objective)*1000)"
   ]
  },
  {
   "cell_type": "code",
   "execution_count": 4,
   "metadata": {},
   "outputs": [
    {
     "output_type": "display_data",
     "data": {
      "text/plain": "interactive(children=(FloatSlider(value=3000.0, description='cena_aluminiowych_slider', max=100000.0, style=Sl…",
      "application/vnd.jupyter.widget-view+json": {
       "version_major": 2,
       "version_minor": 0,
       "model_id": "df5c05b538964d1890cfc5f4debd1080"
      }
     },
     "metadata": {}
    },
    {
     "output_type": "execute_result",
     "data": {
      "text/plain": [
       "<function __main__.dane(cena_aluminiowych=3000, cena_drewnianych=5000, f1_czas_partia_alu=1, f1_czas_partia_dre=0, f1_czas_tydz=4, f2_czas_partia_alu=0, f2_czas_partia_dre=2, f2_czas_tydz=12, f3_czas_partia_alu=3, f3_czas_partia_dre=2, f3_czas_tydz=12)>"
      ]
     },
     "metadata": {},
     "execution_count": 4
    }
   ],
   "source": [
    "## Wersja z suwakami\n",
    "from __future__ import print_function\n",
    "from ipywidgets import interact, interactive, fixed, interact_manual, Layout, FloatSlider, IntSlider\n",
    "import ipywidgets as widgets\n",
    "import pandas as pd\n",
    "\n",
    "style = {'description_width': 'initial'}\n",
    "\n",
    "cena_aluminiowych_slider = FloatSlider(min = 0, max = 100000, value = 3000, description=\"cena_aluminiowych_slider\", style = style)\n",
    "cena_drewnianych_slider = FloatSlider(min = 0, max = 100000, value = 5000, description=\"cena_aluminiowych_slider\", style = style)\n",
    "f1_czas_partia_alu_slider = FloatSlider(min = 0, max = 10, value = 1, description=\"f1_czas_partia_alu_slider\", style = style)\n",
    "f1_czas_partia_dre_slider = FloatSlider(min = 0, max = 10, value = 0, description=\"f1_czas_partia_dre_slider\", style = style)\n",
    "f1_czas_tydz_slider = FloatSlider(min = 0, max = 48, value = 4, description=\"f1_czas_tydz_slider\", style = style)\n",
    "f2_czas_partia_alu_slider = FloatSlider(min = 0, max = 10, value = 0, description=\"f2_czas_partia_alu_slider\", style = style)\n",
    "f2_czas_partia_dre_slider = FloatSlider(min = 0, max = 10, value = 2, description=\"f2_czas_partia_dre_slider\", style = style)\n",
    "f2_czas_tydz_slider = FloatSlider(min = 0, max = 48, value = 12, description=\"f2_czas_tydz_slider\", style = style)\n",
    "f3_czas_partia_alu_slider = FloatSlider(min = 0, max = 10, value = 3, description=\"f3_czas_partia_alu_slider\", style = style)\n",
    "f3_czas_partia_dre_slider = FloatSlider(min = 0, max = 10, value = 2, description=\"f3_czas_partia_dre_slider\", style = style)\n",
    "f3_czas_tydz_slider = FloatSlider(min = 0, max = 48, value = 18, description=\"f3_czas_tydz_slider\", style = style)\n",
    "\n",
    "def dane(cena_aluminiowych = 3000,\n",
    "    cena_drewnianych = 5000,\n",
    "    f1_czas_partia_alu = 1,\n",
    "    f1_czas_partia_dre = 0,\n",
    "    f1_czas_tydz = 4,\n",
    "    f2_czas_partia_alu = 0,\n",
    "    f2_czas_partia_dre = 2,\n",
    "    f2_czas_tydz = 12,\n",
    "    f3_czas_partia_alu = 3,\n",
    "    f3_czas_partia_dre = 2,\n",
    "    f3_czas_tydz = 12):\n",
    "\n",
    "    prob = LpProblem(\"Okna_warianty\",LpMaximize)\n",
    "\n",
    "    x1 = LpVariable(\"Partie okien aluminiowych\",0,None, LpInteger)\n",
    "    x2 = LpVariable(\"Partie okien drewnianych\",0,None, LpInteger)\n",
    "\n",
    "    prob += cena_aluminiowych*x1 + cena_drewnianych*x2, \"Maksymalny Zysk\"\n",
    "    prob += f1_czas_partia_alu*x1 + f1_czas_partia_dre*x2 <= f1_czas_tydz, \"Fabryka 1\"\n",
    "    prob += f2_czas_partia_alu*x1 + f2_czas_partia_dre*x2 <= f2_czas_tydz, \"Fabryka 2\"\n",
    "    prob += f3_czas_partia_alu*x1 + f3_czas_partia_dre*x2 <= f3_czas_tydz, \"Fabryka 3\"\n",
    "\n",
    "    prob.writeLP(\"Okna_zyski\")\n",
    "\n",
    "    prob.solve()\n",
    "\n",
    "    print(\"Status:\", LpStatus[prob.status])\n",
    "\n",
    "    for v in prob.variables():\n",
    "        print(v.name, \"=\", v.varValue)\n",
    "\n",
    "    print(\"Maksymalny zysk = \", value(prob.objective))\n",
    "\n",
    "    shadows = [{'name':name, 'shadow price': c.pi, \"slack\": c.slack} for name, c in prob.constraints.items()]\n",
    "    print(\"*\"*10+\"Shadow Prices\"+\"*\"*10)\n",
    "    print(pd.DataFrame(shadows))\n",
    "\n",
    "interact(dane,\n",
    "    cena_aluminiowych = cena_aluminiowych_slider,\n",
    "    cena_drewnianych = cena_drewnianych_slider,\n",
    "    f1_czas_partia_alu = f1_czas_partia_alu_slider,\n",
    "    f1_czas_partia_dre = f1_czas_partia_dre_slider,\n",
    "    f1_czas_tydz = f1_czas_tydz_slider,\n",
    "    f2_czas_partia_alu = f2_czas_partia_alu_slider,\n",
    "    f2_czas_partia_dre = f2_czas_partia_dre_slider,\n",
    "    f2_czas_tydz = f2_czas_tydz_slider,\n",
    "    f3_czas_partia_alu = f3_czas_partia_alu_slider,\n",
    "    f3_czas_partia_dre = f3_czas_partia_dre_slider,\n",
    "    f3_czas_tydz = f3_czas_tydz_slider)\n"
   ]
  },
  {
   "cell_type": "code",
   "execution_count": null,
   "metadata": {},
   "outputs": [],
   "source": []
  }
 ]
}
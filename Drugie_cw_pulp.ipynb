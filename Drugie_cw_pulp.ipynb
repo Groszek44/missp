{
 "metadata": {
  "language_info": {
   "codemirror_mode": {
    "name": "ipython",
    "version": 3
   },
   "file_extension": ".py",
   "mimetype": "text/x-python",
   "name": "python",
   "nbconvert_exporter": "python",
   "pygments_lexer": "ipython3",
   "version": "3.8.6-final"
  },
  "orig_nbformat": 2,
  "kernelspec": {
   "name": "Python 3.8.6 64-bit",
   "display_name": "Python 3.8.6 64-bit",
   "metadata": {
    "interpreter": {
     "hash": "31f2aee4e71d21fbe5cf8b01ff0e069b9275f58929596ceb00d14d90e3e16cd6"
    }
   }
  }
 },
 "nbformat": 4,
 "nbformat_minor": 2,
 "cells": [
  {
   "cell_type": "code",
   "execution_count": 3,
   "metadata": {},
   "outputs": [
    {
     "output_type": "stream",
     "name": "stdout",
     "text": [
      "Status: Optimal\nPartie_okien_aluminiowych = 2.0\nPartie_okien_drewnianych = 6.0\nMaksymalny zysk =  36000.0\n"
     ]
    }
   ],
   "source": [
    "from pulp import*\n",
    "prob = LpProblem(\"Okna_zyski\",LpMaximize)\n",
    "\n",
    "x1 = LpVariable(\"Partie okien aluminiowych\",0,None, LpInteger)\n",
    "x2 = LpVariable(\"Partie okien drewnianych\",0,None, LpInteger)\n",
    "\n",
    "prob += 3.0*x1 + 5.0*x2, \"Maksymalny Zysk\"\n",
    "prob += x1 <= 4.0, \"Fabryka 1\"\n",
    "prob += 2.0*x2 <= 12.0, \"Fabryka 2\"\n",
    "prob += 3.0*x1 + 2.0*x2 <= 18.0, \"Fabryka 3\"\n",
    "\n",
    "prob.writeLP(\"Okna_zyski\")\n",
    "\n",
    "prob.solve()\n",
    "\n",
    "print(\"Status:\", LpStatus[prob.status])\n",
    "\n",
    "for v in prob.variables():\n",
    "    print(v.name, \"=\", v.varValue)\n",
    "\n",
    "# The optimised objective function value is printed to the screen\n",
    "print(\"Maksymalny zysk = \", value(prob.objective)*1000)"
   ]
  },
  {
   "cell_type": "code",
   "execution_count": null,
   "metadata": {},
   "outputs": [],
   "source": []
  }
 ]
}
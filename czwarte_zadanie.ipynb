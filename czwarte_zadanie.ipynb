{
 "metadata": {
  "language_info": {
   "codemirror_mode": {
    "name": "ipython",
    "version": 3
   },
   "file_extension": ".py",
   "mimetype": "text/x-python",
   "name": "python",
   "nbconvert_exporter": "python",
   "pygments_lexer": "ipython3",
   "version": "3.8.3-final"
  },
  "orig_nbformat": 2,
  "kernelspec": {
   "name": "Python 3.8.3 64-bit ('base': conda)",
   "display_name": "Python 3.8.3 64-bit ('base': conda)",
   "metadata": {
    "interpreter": {
     "hash": "f2a94dd662cc57c54bc4d8551ce8f3b75fb188fe8ce4f6cc5cded909e8e147db"
    }
   }
  }
 },
 "nbformat": 4,
 "nbformat_minor": 2,
 "cells": [
  {
   "cell_type": "code",
   "execution_count": 50,
   "metadata": {},
   "outputs": [],
   "source": [
    "from pulp import *\n",
    "import pandas as pd\n",
    "\n",
    "pracownicy = [\"Ania\",\"Stefan\",\"Hektor\",\"Olaf\",\"Lidia\",\"Piotr\"]\n",
    "cenah = [100,50,60,40,110,70]\n",
    "dni = 5\n",
    "ilosc_pracownikow = [2,1,1,1,3]\n",
    "\n",
    "\n",
    "prob = LpProblem(\"Sklep\", LpMinimize)\n",
    "ax = [LpVariable(\"a{}\".format(i+1), cat = \"Binary\") for i in range(dni)]\n",
    "sx = [LpVariable(\"s{}\".format(i+1), cat = \"Binary\") for i in range(dni)]\n",
    "hx = [LpVariable(\"h{}\".format(i+1), cat = \"Binary\") for i in range(dni)]\n",
    "ox = [LpVariable(\"o{}\".format(i+1), cat = \"Binary\") for i in range(dni)]\n",
    "lx = [LpVariable(\"l{}\".format(i+1), cat = \"Binary\") for i in range(dni)]\n",
    "px = [LpVariable(\"p{}\".format(i+1), cat = \"Binary\") for i in range(dni)]\n",
    "\n",
    "lista = [ax,sx,hx,ox,lx,px]\n",
    "koszt = sum((4*(cena*(sum(x))) for x,cena in zip(lista,cenah)))\n",
    "prob += koszt\n",
    "\n",
    "#prob += a1 + s1 + h1 + o1 + l1 + p1 = ilosc_pracownikow[0]\n",
    "#prob += a2 + s2 + h2 + o2 + l2 + p2 = ilosc_pracownikow[1]\n",
    "#prob += a3 + s3 + h3 + o3 + l3 + p3 = ilosc_pracownikow[2]\n",
    "#prob += a4 + s4 + h4 + o4 + l4 + p4 = ilosc_pracownikow[3]\n",
    "#prob += a5 + s5 + h5 + o5 + l5 + p5 = ilosc_pracownikow[4]\n",
    "\n",
    "\n",
    "\n",
    "\n"
   ]
  },
  {
   "cell_type": "code",
   "execution_count": 51,
   "metadata": {},
   "outputs": [
    {
     "output_type": "execute_result",
     "data": {
      "text/plain": [
       "1*s1 + 1*s2 + 1*s3 + 1*s4 + 1*s5 + 0"
      ]
     },
     "metadata": {},
     "execution_count": 51
    }
   ],
   "source": [
    "#for number,x in enumerate(lista):\n",
    "#   print(sum(x[number]))\n",
    "sum(lista[1])\n",
    "print(koszt)"
   ]
  },
  {
   "cell_type": "code",
   "execution_count": null,
   "metadata": {},
   "outputs": [],
   "source": []
  }
 ]
}
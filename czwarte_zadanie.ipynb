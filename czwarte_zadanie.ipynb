{
 "metadata": {
  "language_info": {
   "codemirror_mode": {
    "name": "ipython",
    "version": 3
   },
   "file_extension": ".py",
   "mimetype": "text/x-python",
   "name": "python",
   "nbconvert_exporter": "python",
   "pygments_lexer": "ipython3",
   "version": "3.8.3-final"
  },
  "orig_nbformat": 2,
  "kernelspec": {
   "name": "python3",
   "display_name": "Python 3.8.3 64-bit ('base': conda)",
   "metadata": {
    "interpreter": {
     "hash": "f2a94dd662cc57c54bc4d8551ce8f3b75fb188fe8ce4f6cc5cded909e8e147db"
    }
   }
  }
 },
 "nbformat": 4,
 "nbformat_minor": 2,
 "cells": [
  {
   "cell_type": "code",
   "execution_count": 13,
   "metadata": {},
   "outputs": [
    {
     "output_type": "stream",
     "name": "stdout",
     "text": [
      "[[Ania1, Ania2, Ania3, Ania4, Ania5], [Stefan1, Stefan2, Stefan3, Stefan4, Stefan5], [Hektor1, Hektor2, Hektor3, Hektor4, Hektor5], [Olaf1, Olaf2, Olaf3, Olaf4, Olaf5], [Lidia1, Lidia2, Lidia3, Lidia4, Lidia5], [Piotr1, Piotr2, Piotr3, Piotr4, Piotr5]]\n[1, 2, 3, 4]\n[1, 4]\n[0, 1, 2]\n[3, 4]\n"
     ]
    }
   ],
   "source": [
    "from pulp import *\n",
    "import pandas as pd\n",
    "\n",
    "pracownicy = [\"Ania\",\"Stefan\",\"Hektor\",\"Olaf\",\"Lidia\",\"Piotr\"]\n",
    "cenah = [100,50,60,40,110,70]\n",
    "dni = 5\n",
    "ilosc_pracownikow_dnia = [2,1,1,1,3]\n",
    "bin_tab = [] # tablica przeznaczona do sumowania elementów\n",
    "ilosc_pracownikow = []\n",
    "pracownicy_dzien = []\n",
    "kiedy_nie_moze = {\"Ania\":[],\"Stefan\":[1,2,3,4],\"Hektor\":[1,4],\"Lidia\":[0,1,2],\"Piotr\":[3,4]}\n",
    "\n",
    "\n",
    "prob = LpProblem(\"Sklep\", LpMinimize)\n",
    "\n",
    "for pracownik in pracownicy:\n",
    "    pracownik = [LpVariable(pracownik+\"{}\".format(i+1), cat = \"Binary\") for i in range(dni)]\n",
    "    pracownicy_dzien.append(pracownik)\n",
    "\n",
    "koszt = sum((4*(cena*(sum(x))) for x,cena in zip(pracownicy_dzien,cenah)))\n",
    "prob += koszt\n",
    "\n",
    "for i in range(dni):\n",
    "    for j in range(len(pracownicy)):\n",
    "        bin_tab.append(pracownicy_dzien[j][i])\n",
    "    suma = sum(bin_tab)\n",
    "    prob += suma == ilosc_pracownikow_dnia[i]\n",
    "    bin_tab.clear()\n",
    "\n",
    "print(pracownicy_dzien)\n",
    "for numer,osoba in enumerate(pracownicy):\n",
    "    try:\n",
    "        print(kiedy_nie_moze[osoba])\n",
    "    except KeyError:\n",
    "        continue\n",
    "\n",
    "#prob += pracownicy_dzien[1][0]+pracownicy_dzien[1][1]+pracownicy_dzien[1][2]+pracownicy_dzien[1][3] == 0\n",
    "#prob += pracownicy_dzien[2][0] + pracownicy_dzien[2][3] == 0\n"
   ]
  },
  {
   "cell_type": "code",
   "execution_count": 51,
   "metadata": {},
   "outputs": [
    {
     "output_type": "execute_result",
     "data": {
      "text/plain": [
       "1*s1 + 1*s2 + 1*s3 + 1*s4 + 1*s5 + 0"
      ]
     },
     "metadata": {},
     "execution_count": 51
    }
   ],
   "source": [
    "#for number,x in enumerate(lista):\n",
    "#   print(sum(x[number]))\n",
    "sum(lista[1])\n",
    "print(koszt)"
   ]
  },
  {
   "cell_type": "code",
   "execution_count": null,
   "metadata": {},
   "outputs": [],
   "source": []
  }
 ]
}
{
 "metadata": {
  "language_info": {
   "codemirror_mode": {
    "name": "ipython",
    "version": 3
   },
   "file_extension": ".py",
   "mimetype": "text/x-python",
   "name": "python",
   "nbconvert_exporter": "python",
   "pygments_lexer": "ipython3",
   "version": 3
  },
  "orig_nbformat": 2
 },
 "nbformat": 4,
 "nbformat_minor": 2,
 "cells": [
  {
   "cell_type": "code",
   "execution_count": null,
   "metadata": {},
   "outputs": [],
   "source": [
    "from pulp import *\n",
    "import pandas as pd\n",
    "\n",
    "dni_tygodnia = 4\n",
    "pracownicy = [\"Ania\",\"Stefan\",\"Hektor\",\"Olaf\",\"Lidia\",\"Piotr\"]\n",
    "ilosc_pracownikow = [2,1,1,1,3]\n",
    "kiedynie = {\"Stefan\": [1,2,3,4],\"Hektor\": [3,4],\"Lidia\": [0,1,2],\"Piotr\": [3,4]}\n",
    "maks_zmian = 3\n",
    "\n",
    "prob = LpProblem(\"Sklep\", LpMinimize)\n",
    "\n",
    "przypisanie = LpVariable.dicts(\"A\", ((dzien, pracownik, ilosc) for dzien in range(dni_tygodnia) for pracownik in pracownicy for ilosc in ilosc_pracownikow), cat=\"Binary\")\n",
    "czy_przypisany = LpVariable.dicts(\"X\", pracownicy, cat=\"Binary\")"
   ]
  }
 ]
}